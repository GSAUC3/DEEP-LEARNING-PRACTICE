{
 "cells": [
  {
   "cell_type": "code",
   "execution_count": 1,
   "metadata": {},
   "outputs": [
    {
     "name": "stderr",
     "output_type": "stream",
     "text": [
      "C:\\Users\\Samba\\AppData\\Local\\Programs\\Python\\Python39\\lib\\site-packages\\torchvision\\io\\image.py:11: UserWarning: Failed to load image Python extension: Could not find module 'C:\\Users\\Samba\\AppData\\Local\\Programs\\Python\\Python39\\Lib\\site-packages\\torchvision\\image.pyd' (or one of its dependencies). Try using the full path with constructor syntax.\n",
      "  warn(f\"Failed to load image Python extension: {e}\")\n"
     ]
    }
   ],
   "source": [
    "import torch\n",
    "import torch.nn as nn \n",
    "import torchvision\n",
    "import numpy as np \n",
    "import matplotlib.pyplot as plt \n",
    "from torchvision.datasets import ImageFolder\n",
    "%matplotlib inline\n",
    "from torchsummary import summary\n",
    "from tqdm.notebook import tqdm\n",
    "from torch.utils.data.dataloader import DataLoader\n",
    "from torchvision import transforms"
   ]
  },
  {
   "cell_type": "code",
   "execution_count": 2,
   "metadata": {},
   "outputs": [
    {
     "data": {
      "text/plain": [
       "(device(type='cuda', index=0), 'NVIDIA GeForce GTX 1050')"
      ]
     },
     "execution_count": 2,
     "metadata": {},
     "output_type": "execute_result"
    }
   ],
   "source": [
    "device = torch.device('cuda:0' if torch.cuda.is_available() else 'cpu')\n",
    "device, torch.cuda.get_device_name()"
   ]
  },
  {
   "cell_type": "code",
   "execution_count": 3,
   "metadata": {},
   "outputs": [],
   "source": [
    "transform = transforms.Compose([\n",
    "    transforms.Grayscale(num_output_channels=1),\n",
    "    transforms.ToTensor()\n",
    "    ])"
   ]
  },
  {
   "cell_type": "code",
   "execution_count": 4,
   "metadata": {},
   "outputs": [],
   "source": [
    "train_ds = ImageFolder('mnist_png/training',transform=transform)\n",
    "test_ds = ImageFolder('mnist_png/testing',transform=transform)"
   ]
  },
  {
   "cell_type": "code",
   "execution_count": 5,
   "metadata": {},
   "outputs": [
    {
     "name": "stdout",
     "output_type": "stream",
     "text": [
      "Training samples 60000 \n",
      "testing samples 10000\n"
     ]
    }
   ],
   "source": [
    "print('Training samples',len(train_ds) ,'\\ntesting samples',len(test_ds))"
   ]
  },
  {
   "cell_type": "code",
   "execution_count": 6,
   "metadata": {},
   "outputs": [
    {
     "data": {
      "text/plain": [
       "(True,\n",
       " ['0', '1', '2', '3', '4', '5', '6', '7', '8', '9'],\n",
       " ['0', '1', '2', '3', '4', '5', '6', '7', '8', '9'])"
      ]
     },
     "execution_count": 6,
     "metadata": {},
     "output_type": "execute_result"
    }
   ],
   "source": [
    "train_ds.classes ==test_ds.classes,train_ds.classes ,test_ds.classes"
   ]
  },
  {
   "cell_type": "code",
   "execution_count": 7,
   "metadata": {},
   "outputs": [
    {
     "name": "stdout",
     "output_type": "stream",
     "text": [
      "label 0\n"
     ]
    },
    {
     "data": {
      "text/plain": [
       "(<matplotlib.image.AxesImage at 0x1b02e2e1880>, None)"
      ]
     },
     "execution_count": 7,
     "metadata": {},
     "output_type": "execute_result"
    },
    {
     "data": {
      "image/png": "[encoded data removed]",
      "text/plain": [
       "<Figure size 432x288 with 1 Axes>"
      ]
     },
     "metadata": {
      "needs_background": "light"
     },
     "output_type": "display_data"
    }
   ],
   "source": [
    "image,label = train_ds[0]\n",
    "plt.imshow(image.permute(1,2,0)), print(f'label {label}')"
   ]
  },
  {
   "cell_type": "code",
   "execution_count": 8,
   "metadata": {},
   "outputs": [
    {
     "data": {
      "text/plain": [
       "(torch.Size([28, 28, 1]), torch.Size([1, 28, 28]), torch.Size([1, 28, 28]))"
      ]
     },
     "execution_count": 8,
     "metadata": {},
     "output_type": "execute_result"
    }
   ],
   "source": [
    "image.permute(1,2,0).shape , image.shape , image.size()"
   ]
  },
  {
   "cell_type": "markdown",
   "metadata": {},
   "source": [
    "Dataloader"
   ]
  },
  {
   "cell_type": "code",
   "execution_count": 9,
   "metadata": {},
   "outputs": [
    {
     "name": "stdout",
     "output_type": "stream",
     "text": [
      "42000 \n",
      " 18000\n"
     ]
    }
   ],
   "source": [
    "test,val = torch.utils.data.random_split(train_ds,[42000,18000])\n",
    "print(len(test),'\\n',len(val))\n",
    "train_loader = DataLoader(test,batch_size = 32,shuffle=True)\n",
    "val_loader = DataLoader(val,batch_size = 32,shuffle=True)"
   ]
  },
  {
   "cell_type": "code",
   "execution_count": 10,
   "metadata": {},
   "outputs": [],
   "source": [
    "class Lnet(nn.Module):\n",
    "    def __init__(self):\n",
    "        super(Lnet,self).__init__()\n",
    "        self.conv1 = nn.Conv2d(1,20,5)\n",
    "        self.pool1 = nn.MaxPool2d(2,2)\n",
    "        self.relu1 = nn.ReLU()\n",
    "        # 12 x12 x6\n",
    "        self.conv2 = nn.Conv2d(20,50,5)\n",
    "        self.pool2 = nn.MaxPool2d(2,2)\n",
    "        self.relu2 = nn.ReLU()\n",
    "        # 4x4 x 50\n",
    "        self.fc1 = nn.Linear(16*50,120)\n",
    "        self.fc2 = nn.Linear(120,84)\n",
    "        self.fc3 = nn.Linear(84,10)\n",
    "    \n",
    "    def forward(self,x):\n",
    "        x = self.conv1(x)\n",
    "        x = self.pool1(x)\n",
    "        x = self.relu1(x)\n",
    "        x = self.conv2(x)\n",
    "        x = self.pool2(x)\n",
    "        x = self.relu2(x)\n",
    "        x1 = x.view(-1,16*50)\n",
    "        x = nn.functional.relu(self.fc1(x1))\n",
    "        x = nn.functional.relu(self.fc2(x))\n",
    "        x = nn.functional.relu(self.fc3(x))\n",
    "        x = torch.softmax(x,dim=0)\n",
    "        return x"
   ]
  },
  {
   "cell_type": "code",
   "execution_count": 11,
   "metadata": {},
   "outputs": [
    {
     "name": "stdout",
     "output_type": "stream",
     "text": [
      "----------------------------------------------------------------\n",
      "        Layer (type)               Output Shape         Param #\n",
      "================================================================\n",
      "            Conv2d-1           [-1, 20, 24, 24]             520\n",
      "         MaxPool2d-2           [-1, 20, 12, 12]               0\n",
      "              ReLU-3           [-1, 20, 12, 12]               0\n",
      "            Conv2d-4             [-1, 50, 8, 8]          25,050\n",
      "         MaxPool2d-5             [-1, 50, 4, 4]               0\n",
      "              ReLU-6             [-1, 50, 4, 4]               0\n",
      "            Linear-7                  [-1, 120]          96,120\n",
      "            Linear-8                   [-1, 84]          10,164\n",
      "            Linear-9                   [-1, 10]             850\n",
      "================================================================\n",
      "Total params: 132,704\n",
      "Trainable params: 132,704\n",
      "Non-trainable params: 0\n",
      "----------------------------------------------------------------\n",
      "Input size (MB): 0.00\n",
      "Forward/backward pass size (MB): 0.17\n",
      "Params size (MB): 0.51\n",
      "Estimated Total Size (MB): 0.68\n",
      "----------------------------------------------------------------\n"
     ]
    }
   ],
   "source": [
    "model = Lnet()\n",
    "model.to(device)\n",
    "summary(model,(1,28,28))"
   ]
  },
  {
   "cell_type": "code",
   "execution_count": 12,
   "metadata": {},
   "outputs": [],
   "source": [
    "criterion = nn.CrossEntropyLoss()\n",
    "optimizer = torch.optim.Adam(model.parameters(),lr = 0.01)"
   ]
  },
  {
   "cell_type": "code",
   "execution_count": 13,
   "metadata": {},
   "outputs": [
    {
     "data": {
      "text/plain": [
       "1312"
      ]
     },
     "execution_count": 13,
     "metadata": {},
     "output_type": "execute_result"
    }
   ],
   "source": [
    "trainsteps = len(train_loader.dataset)//32\n",
    "trainsteps"
   ]
  },
  {
   "cell_type": "code",
   "execution_count": 14,
   "metadata": {},
   "outputs": [
    {
     "data": {
      "text/plain": [
       "1313"
      ]
     },
     "execution_count": 14,
     "metadata": {},
     "output_type": "execute_result"
    }
   ],
   "source": [
    "len(train_loader)"
   ]
  },
  {
   "cell_type": "code",
   "execution_count": 15,
   "metadata": {},
   "outputs": [
    {
     "name": "stdout",
     "output_type": "stream",
     "text": [
      "Training epoch 1\n"
     ]
    },
    {
     "data": {
      "application/vnd.jupyter.widget-view+json": {
       "model_id": "45e9a104408347b6aa6468ff57651a19",
       "version_major": 2,
       "version_minor": 0
      },
      "text/plain": [
       "  0%|          | 0/1313 [00:00<?, ?it/s]"
      ]
     },
     "metadata": {},
     "output_type": "display_data"
    },
    {
     "name": "stdout",
     "output_type": "stream",
     "text": [
      "epoch: 1 \n",
      "loss per epoch: 2.307217706911304\n",
      "accuracy per epoch: 0.09927170601675551 \n",
      "\n",
      "validation\n"
     ]
    },
    {
     "data": {
      "application/vnd.jupyter.widget-view+json": {
       "model_id": "e0c6e9b8853a41dfbf1ae1e8449f3aa4",
       "version_major": 2,
       "version_minor": 0
      },
      "text/plain": [
       "  0%|          | 0/563 [00:00<?, ?it/s]"
      ]
     },
     "metadata": {},
     "output_type": "display_data"
    },
    {
     "name": "stdout",
     "output_type": "stream",
     "text": [
      "epoch: 1 \n",
      "loss per epoch: 4.605154037475586\n",
      "accuracy per epoch: 0.09780195381882771 \n",
      "Training epoch 2\n"
     ]
    },
    {
     "data": {
      "application/vnd.jupyter.widget-view+json": {
       "model_id": "52b4eaecb54c477f9e12890d8bb81f17",
       "version_major": 2,
       "version_minor": 0
      },
      "text/plain": [
       "  0%|          | 0/1313 [00:00<?, ?it/s]"
      ]
     },
     "metadata": {},
     "output_type": "display_data"
    },
    {
     "name": "stdout",
     "output_type": "stream",
     "text": [
      "epoch: 2 \n",
      "loss per epoch: 2.3025848869141\n",
      "accuracy per epoch: 0.0991051028179741 \n",
      "\n",
      "validation\n"
     ]
    },
    {
     "data": {
      "application/vnd.jupyter.widget-view+json": {
       "model_id": "bcb415430685452bb5fbd47ba1afe00c",
       "version_major": 2,
       "version_minor": 0
      },
      "text/plain": [
       "  0%|          | 0/563 [00:00<?, ?it/s]"
      ]
     },
     "metadata": {},
     "output_type": "display_data"
    },
    {
     "name": "stdout",
     "output_type": "stream",
     "text": [
      "epoch: 2 \n",
      "loss per epoch: 4.605154037475586\n",
      "accuracy per epoch: 0.09785746003552398 \n",
      "Training epoch 3\n"
     ]
    },
    {
     "data": {
      "application/vnd.jupyter.widget-view+json": {
       "model_id": "62b2b906759e4aa889c23c082e085916",
       "version_major": 2,
       "version_minor": 0
      },
      "text/plain": [
       "  0%|          | 0/1313 [00:00<?, ?it/s]"
      ]
     },
     "metadata": {},
     "output_type": "display_data"
    },
    {
     "name": "stdout",
     "output_type": "stream",
     "text": [
      "epoch: 3 \n",
      "loss per epoch: 2.3025848869141\n",
      "accuracy per epoch: 0.09908130236100533 \n",
      "\n",
      "validation\n"
     ]
    },
    {
     "data": {
      "application/vnd.jupyter.widget-view+json": {
       "model_id": "7eaff30e2d5c4b2883dae99d05a3f958",
       "version_major": 2,
       "version_minor": 0
      },
      "text/plain": [
       "  0%|          | 0/563 [00:00<?, ?it/s]"
      ]
     },
     "metadata": {},
     "output_type": "display_data"
    },
    {
     "name": "stdout",
     "output_type": "stream",
     "text": [
      "epoch: 3 \n",
      "loss per epoch: 4.605154037475586\n",
      "accuracy per epoch: 0.09785746003552398 \n",
      "Training epoch 4\n"
     ]
    },
    {
     "data": {
      "application/vnd.jupyter.widget-view+json": {
       "model_id": "72d4b4c49520426381e540506931e559",
       "version_major": 2,
       "version_minor": 0
      },
      "text/plain": [
       "  0%|          | 0/1313 [00:00<?, ?it/s]"
      ]
     },
     "metadata": {},
     "output_type": "display_data"
    },
    {
     "name": "stdout",
     "output_type": "stream",
     "text": [
      "epoch: 4 \n",
      "loss per epoch: 2.3025848869141\n",
      "accuracy per epoch: 0.09908130236100533 \n",
      "\n",
      "validation\n"
     ]
    },
    {
     "data": {
      "application/vnd.jupyter.widget-view+json": {
       "model_id": "921ab4f9c7694de6bf9a60a582de9215",
       "version_major": 2,
       "version_minor": 0
      },
      "text/plain": [
       "  0%|          | 0/563 [00:00<?, ?it/s]"
      ]
     },
     "metadata": {},
     "output_type": "display_data"
    },
    {
     "name": "stdout",
     "output_type": "stream",
     "text": [
      "epoch: 4 \n",
      "loss per epoch: 4.605154037475586\n",
      "accuracy per epoch: 0.09780195381882771 \n",
      "Training epoch 5\n"
     ]
    },
    {
     "data": {
      "application/vnd.jupyter.widget-view+json": {
       "model_id": "4e16c4315cfd4a5891b6025b5606621c",
       "version_major": 2,
       "version_minor": 0
      },
      "text/plain": [
       "  0%|          | 0/1313 [00:00<?, ?it/s]"
      ]
     },
     "metadata": {},
     "output_type": "display_data"
    },
    {
     "name": "stdout",
     "output_type": "stream",
     "text": [
      "epoch: 5 \n",
      "loss per epoch: 2.3025848869141\n",
      "accuracy per epoch: 0.09903370144706779 \n",
      "\n",
      "validation\n"
     ]
    },
    {
     "data": {
      "application/vnd.jupyter.widget-view+json": {
       "model_id": "97899e80ff0c4ae68048bf28068505a4",
       "version_major": 2,
       "version_minor": 0
      },
      "text/plain": [
       "  0%|          | 0/563 [00:00<?, ?it/s]"
      ]
     },
     "metadata": {},
     "output_type": "display_data"
    },
    {
     "name": "stdout",
     "output_type": "stream",
     "text": [
      "epoch: 5 \n",
      "loss per epoch: 4.605154037475586\n",
      "accuracy per epoch: 0.09780195381882771 \n",
      "Training epoch 6\n"
     ]
    },
    {
     "data": {
      "application/vnd.jupyter.widget-view+json": {
       "model_id": "f79af4d4859d4fc08d51aff3d7dbc322",
       "version_major": 2,
       "version_minor": 0
      },
      "text/plain": [
       "  0%|          | 0/1313 [00:00<?, ?it/s]"
      ]
     },
     "metadata": {},
     "output_type": "display_data"
    },
    {
     "name": "stdout",
     "output_type": "stream",
     "text": [
      "epoch: 6 \n",
      "loss per epoch: 2.3025848869141\n",
      "accuracy per epoch: 0.09908130236100533 \n",
      "\n",
      "validation\n"
     ]
    },
    {
     "data": {
      "application/vnd.jupyter.widget-view+json": {
       "model_id": "0e9c202174fa41c39c3f2acc0f55edab",
       "version_major": 2,
       "version_minor": 0
      },
      "text/plain": [
       "  0%|          | 0/563 [00:00<?, ?it/s]"
      ]
     },
     "metadata": {},
     "output_type": "display_data"
    },
    {
     "name": "stdout",
     "output_type": "stream",
     "text": [
      "epoch: 6 \n",
      "loss per epoch: 4.605154037475586\n",
      "accuracy per epoch: 0.09785746003552398 \n",
      "Training epoch 7\n"
     ]
    },
    {
     "data": {
      "application/vnd.jupyter.widget-view+json": {
       "model_id": "7f54fe9d654746249df3c050004ea692",
       "version_major": 2,
       "version_minor": 0
      },
      "text/plain": [
       "  0%|          | 0/1313 [00:00<?, ?it/s]"
      ]
     },
     "metadata": {},
     "output_type": "display_data"
    },
    {
     "name": "stdout",
     "output_type": "stream",
     "text": [
      "epoch: 7 \n",
      "loss per epoch: 2.3025848869141\n",
      "accuracy per epoch: 0.09905750190403656 \n",
      "\n",
      "validation\n"
     ]
    },
    {
     "data": {
      "application/vnd.jupyter.widget-view+json": {
       "model_id": "b265d562634f4ce4901fe0a526cf9343",
       "version_major": 2,
       "version_minor": 0
      },
      "text/plain": [
       "  0%|          | 0/563 [00:00<?, ?it/s]"
      ]
     },
     "metadata": {},
     "output_type": "display_data"
    },
    {
     "name": "stdout",
     "output_type": "stream",
     "text": [
      "epoch: 7 \n",
      "loss per epoch: 4.605154037475586\n",
      "accuracy per epoch: 0.09785746003552398 \n",
      "Training epoch 8\n"
     ]
    },
    {
     "data": {
      "application/vnd.jupyter.widget-view+json": {
       "model_id": "787d7f3549834de48c10780dac8d8604",
       "version_major": 2,
       "version_minor": 0
      },
      "text/plain": [
       "  0%|          | 0/1313 [00:00<?, ?it/s]"
      ]
     },
     "metadata": {},
     "output_type": "display_data"
    },
    {
     "name": "stdout",
     "output_type": "stream",
     "text": [
      "epoch: 8 \n",
      "loss per epoch: 2.3025848869141\n",
      "accuracy per epoch: 0.09905750190403656 \n",
      "\n",
      "validation\n"
     ]
    },
    {
     "data": {
      "application/vnd.jupyter.widget-view+json": {
       "model_id": "58724088443742799b55dce67e0fb19f",
       "version_major": 2,
       "version_minor": 0
      },
      "text/plain": [
       "  0%|          | 0/563 [00:00<?, ?it/s]"
      ]
     },
     "metadata": {},
     "output_type": "display_data"
    },
    {
     "name": "stdout",
     "output_type": "stream",
     "text": [
      "epoch: 8 \n",
      "loss per epoch: 4.605154037475586\n",
      "accuracy per epoch: 0.09780195381882771 \n",
      "Training epoch 9\n"
     ]
    },
    {
     "data": {
      "application/vnd.jupyter.widget-view+json": {
       "model_id": "d86ac1b9e8734fa592d655e9a017c295",
       "version_major": 2,
       "version_minor": 0
      },
      "text/plain": [
       "  0%|          | 0/1313 [00:00<?, ?it/s]"
      ]
     },
     "metadata": {},
     "output_type": "display_data"
    },
    {
     "name": "stdout",
     "output_type": "stream",
     "text": [
      "epoch: 9 \n",
      "loss per epoch: 2.3025848869141\n",
      "accuracy per epoch: 0.09903370144706779 \n",
      "\n",
      "validation\n"
     ]
    },
    {
     "data": {
      "application/vnd.jupyter.widget-view+json": {
       "model_id": "c60e0c8e861649bf9d234f9adc99ca17",
       "version_major": 2,
       "version_minor": 0
      },
      "text/plain": [
       "  0%|          | 0/563 [00:00<?, ?it/s]"
      ]
     },
     "metadata": {},
     "output_type": "display_data"
    },
    {
     "name": "stdout",
     "output_type": "stream",
     "text": [
      "epoch: 9 \n",
      "loss per epoch: 4.605154037475586\n",
      "accuracy per epoch: 0.09780195381882771 \n",
      "Training epoch 10\n"
     ]
    },
    {
     "data": {
      "application/vnd.jupyter.widget-view+json": {
       "model_id": "c7bec5f74ee848b68bed039a682f94e4",
       "version_major": 2,
       "version_minor": 0
      },
      "text/plain": [
       "  0%|          | 0/1313 [00:00<?, ?it/s]"
      ]
     },
     "metadata": {},
     "output_type": "display_data"
    },
    {
     "name": "stdout",
     "output_type": "stream",
     "text": [
      "epoch: 10 \n",
      "loss per epoch: 2.3025848869141\n",
      "accuracy per epoch: 0.09908130236100533 \n",
      "\n",
      "validation\n"
     ]
    },
    {
     "data": {
      "application/vnd.jupyter.widget-view+json": {
       "model_id": "a0d5aea453cf4dfda5b56c53b7dff663",
       "version_major": 2,
       "version_minor": 0
      },
      "text/plain": [
       "  0%|          | 0/563 [00:00<?, ?it/s]"
      ]
     },
     "metadata": {},
     "output_type": "display_data"
    },
    {
     "name": "stdout",
     "output_type": "stream",
     "text": [
      "epoch: 10 \n",
      "loss per epoch: 4.605154037475586\n",
      "accuracy per epoch: 0.09791296625222025 \n"
     ]
    }
   ],
   "source": [
    "from tqdm.notebook import tqdm\n",
    "h={ \"train_loss\":[],'train_acc':[],'val_loss':[],'val_acc':[]}\n",
    "for i in range(10):\n",
    "    print('Training epoch',i+1)\n",
    "    model.train()\n",
    "    totalTrainLoss = 0\n",
    "    totalValLoss = 0\n",
    "    trainacc = 0\n",
    "    valCorrect = 0\n",
    "    for (images,labels) in tqdm(train_loader):\n",
    "        (images,labels) = (images.to(device),labels.to(device))\n",
    "        pred = model(images) # inputing a batch of images (inputs)\n",
    "        loss = criterion(pred,labels) #loss per batch\n",
    "        optimizer.zero_grad()\n",
    "        loss.backward()\n",
    "        optimizer.step()\n",
    "\n",
    "        # pred_=torch.argmax(pred)\n",
    "\n",
    "        totalTrainLoss += loss.item()/len(train_loader) # total loss per epoch\n",
    "        # accumulating loss per batch in totalTrainLoss\n",
    "        # print('labels.size() ',labels.size(),' labels.size(0) ', labels.size(0))\n",
    "        # print(f'pred.argmax(1) :{pred.argmax(1)}\\n labels: {labels} \\n loss: {loss}')\n",
    "        # print(labels)\n",
    "        index = torch.argmax(pred,1)\n",
    "        trainacc += (index==labels).sum().item()/float(labels.size(0)) \n",
    "        \n",
    "    print(f'epoch: {i+1} \\nloss per epoch: {totalTrainLoss}\\naccuracy per epoch: {trainacc/len(train_loader)} ')\n",
    "    print('\\nvalidation')\n",
    "    with torch.no_grad():\n",
    "        model.eval()\n",
    "        for x,y in tqdm(val_loader):\n",
    "            x,y = x.to(device),y.to(device)\n",
    "            pred = model(x)\n",
    "            loss = criterion(pred,y)\n",
    "            totalValLoss += loss.item()/len(val_loader)\n",
    "            index = torch.argmax(pred,1)\n",
    "            totalValLoss += loss/len(val_loader)\n",
    "            valCorrect += (index==y).sum().item()/float(y.size(0))\n",
    "\n",
    "            # print(f'{pred.argmax(1)} labels: {labels}')\n",
    "    #         break\n",
    "\n",
    "    h['train_loss'].append(totalTrainLoss)\n",
    "    h['train_acc'].append(trainacc/len(train_loader)) # this will give me accuracy per epoch\n",
    "    h['val_loss'].append(totalValLoss)\n",
    "    h['val_acc'].append(valCorrect/len(val_loader))\n",
    "    print(f'epoch: {i+1} \\nloss per epoch: {totalValLoss}\\naccuracy per epoch: {valCorrect/len(val_loader)} ')\n",
    "    #         # valCorrect += (pred.argmax(1)==y).type(torch.float).sum().item()\n",
    "    # avgTrainLoss = totalTrainLoss / trainsteps\n",
    "    # avgValLoss = totalValLoss / (len(val_loader.dataset)//32)\n",
    "    # # calculating the training and validation accuracy\n",
    "    # trainCorrect = trainCorrect / len(train_loader.dataset)\n",
    "    # valCorrect = valCorrect / len(val_loader.dataset)\n",
    "    # h[\"train_loss\"].append(avgTrainLoss.cpu().detach().numpy())\n",
    "    # h[\"train_acc\"].append(trainCorrect)\n",
    "    # h[\"val_loss\"].append(avgValLoss.cpu().detach().numpy())\n",
    "    # h[\"val_acc\"].append(valCorrect)\n",
    "    # print(\"[INFO] EPOCH: {}/{}\".format(i + 1, 10))\n",
    "    # print(\"Train loss: {:.6f}, Train accuracy: {:.4f}\".format(\n",
    "\t\t# avgTrainLoss, trainCorrect))\n",
    "    # print(\"Val loss: {:.6f}, Val accuracy: {:.4f}\\n\".format(\n",
    "\t\t# avgValLoss, valCorrect))\n",
    "\n"
   ]
  },
  {
   "cell_type": "code",
   "execution_count": 16,
   "metadata": {},
   "outputs": [
    {
     "name": "stdout",
     "output_type": "stream",
     "text": [
      "12\n"
     ]
    }
   ],
   "source": [
    "yhat=np.array([0, 0, 0, 5, 2, 0, 1, 6, 0, 1, 0, 0, 1, 0, 2, 6, 2, 0, 0, 5, 1, 2, 2, 6, 1, 0, 0, 2, 2, 0, 9, 2])\n",
    "y = np.array([7, 7, 0, 0, 2, 0, 3, 9, 2, 1, 0, 3, 1, 1, 2, 9, 1, 7, 7, 0, 1, 3, 2, 6,\n",
    "        1, 9, 1, 2, 7, 1, 4, 6])\n",
    "print(sum([1 if i==j else 0 for i,j in zip(yhat,y)]))"
   ]
  },
  {
   "cell_type": "code",
   "execution_count": 17,
   "metadata": {},
   "outputs": [],
   "source": [
    "def onehot(n_classes,y):\n",
    "    hot_encodings =[]\n",
    "    for i in y:\n",
    "        hot = np.zeros(n_classes)\n",
    "        hot[i]=1\n",
    "        hot_encodings.append(hot)\n",
    "    return hot_encodings\n"
   ]
  },
  {
   "cell_type": "code",
   "execution_count": 18,
   "metadata": {},
   "outputs": [],
   "source": [
    "hot_enco =np.array(onehot(10,y)) # one hot encoding label"
   ]
  },
  {
   "cell_type": "code",
   "execution_count": 19,
   "metadata": {},
   "outputs": [
    {
     "data": {
      "text/plain": [
       "32"
      ]
     },
     "execution_count": 19,
     "metadata": {},
     "output_type": "execute_result"
    }
   ],
   "source": [
    "l1 = np.array([[0.0317, 0.0312, 0.0310, 0.0312, 0.0312, 0.0313, 0.0310, 0.0312, 0.0312,\n",
    "         0.0314],\n",
    "        [0.0320, 0.0312, 0.0308, 0.0312, 0.0312, 0.0316, 0.0309, 0.0312, 0.0312,\n",
    "         0.0311],\n",
    "        [0.0317, 0.0312, 0.0312, 0.0312, 0.0312, 0.0316, 0.0313, 0.0312, 0.0312,\n",
    "         0.0312],\n",
    "        [0.0314, 0.0312, 0.0308, 0.0312, 0.0312, 0.0316, 0.0313, 0.0312, 0.0312,\n",
    "         0.0308],\n",
    "        [0.0308, 0.0312, 0.0321, 0.0312, 0.0312, 0.0312, 0.0315, 0.0312, 0.0312,\n",
    "         0.0317],\n",
    "        [0.0319, 0.0312, 0.0310, 0.0312, 0.0312, 0.0316, 0.0314, 0.0312, 0.0312,\n",
    "         0.0309],\n",
    "        [0.0309, 0.0312, 0.0312, 0.0312, 0.0312, 0.0311, 0.0307, 0.0312, 0.0312,\n",
    "         0.0311],\n",
    "        [0.0312, 0.0312, 0.0317, 0.0312, 0.0312, 0.0314, 0.0320, 0.0312, 0.0312,\n",
    "         0.0317],\n",
    "        [0.0315, 0.0312, 0.0313, 0.0312, 0.0312, 0.0312, 0.0315, 0.0312, 0.0312,\n",
    "         0.0314],\n",
    "        [0.0309, 0.0312, 0.0312, 0.0312, 0.0312, 0.0310, 0.0311, 0.0312, 0.0312,\n",
    "         0.0312],\n",
    "        [0.0318, 0.0312, 0.0312, 0.0312, 0.0312, 0.0317, 0.0316, 0.0312, 0.0312,\n",
    "         0.0314],\n",
    "        [0.0317, 0.0312, 0.0309, 0.0312, 0.0312, 0.0315, 0.0313, 0.0312, 0.0312,\n",
    "         0.0310],\n",
    "        [0.0311, 0.0312, 0.0309, 0.0312, 0.0312, 0.0309, 0.0310, 0.0312, 0.0312,\n",
    "         0.0311],\n",
    "        [0.0314, 0.0312, 0.0310, 0.0312, 0.0312, 0.0310, 0.0314, 0.0312, 0.0312,\n",
    "         0.0311],\n",
    "        [0.0307, 0.0312, 0.0322, 0.0312, 0.0312, 0.0312, 0.0315, 0.0312, 0.0312,\n",
    "         0.0317],\n",
    "        [0.0311, 0.0312, 0.0312, 0.0312, 0.0312, 0.0312, 0.0317, 0.0313, 0.0312,\n",
    "         0.0316],\n",
    "        [0.0310, 0.0312, 0.0313, 0.0312, 0.0312, 0.0308, 0.0312, 0.0312, 0.0312,\n",
    "         0.0311],\n",
    "        [0.0314, 0.0312, 0.0311, 0.0312, 0.0312, 0.0312, 0.0311, 0.0312, 0.0312,\n",
    "         0.0310],\n",
    "        [0.0317, 0.0312, 0.0313, 0.0312, 0.0312, 0.0316, 0.0312, 0.0312, 0.0312,\n",
    "         0.0313],\n",
    "        [0.0317, 0.0312, 0.0315, 0.0312, 0.0312, 0.0319, 0.0316, 0.0312, 0.0312,\n",
    "         0.0313],\n",
    "        [0.0311, 0.0312, 0.0310, 0.0312, 0.0312, 0.0310, 0.0312, 0.0312, 0.0312,\n",
    "         0.0309],\n",
    "        [0.0309, 0.0312, 0.0314, 0.0312, 0.0312, 0.0314, 0.0310, 0.0312, 0.0312,\n",
    "         0.0314],\n",
    "        [0.0306, 0.0312, 0.0320, 0.0312, 0.0312, 0.0309, 0.0310, 0.0312, 0.0312,\n",
    "         0.0314],\n",
    "        [0.0311, 0.0312, 0.0311, 0.0312, 0.0312, 0.0313, 0.0314, 0.0312, 0.0312,\n",
    "         0.0311],\n",
    "        [0.0309, 0.0312, 0.0312, 0.0312, 0.0312, 0.0310, 0.0309, 0.0312, 0.0312,\n",
    "         0.0312],\n",
    "        [0.0314, 0.0312, 0.0310, 0.0312, 0.0312, 0.0313, 0.0311, 0.0312, 0.0312,\n",
    "         0.0313],\n",
    "        [0.0312, 0.0312, 0.0309, 0.0312, 0.0312, 0.0311, 0.0311, 0.0312, 0.0312,\n",
    "         0.0309],\n",
    "        [0.0308, 0.0312, 0.0314, 0.0312, 0.0312, 0.0309, 0.0312, 0.0312, 0.0312,\n",
    "         0.0313],\n",
    "        [0.0308, 0.0312, 0.0314, 0.0312, 0.0312, 0.0311, 0.0308, 0.0312, 0.0312,\n",
    "         0.0310],\n",
    "        [0.0314, 0.0312, 0.0309, 0.0312, 0.0312, 0.0310, 0.0313, 0.0312, 0.0312,\n",
    "         0.0313],\n",
    "        [0.0312, 0.0312, 0.0313, 0.0312, 0.0312, 0.0311, 0.0315, 0.0312, 0.0312,\n",
    "         0.0317],\n",
    "        [0.0312, 0.0312, 0.0316, 0.0312, 0.0312, 0.0313, 0.0312, 0.0312, 0.0312,\n",
    "         0.0316]])\n",
    "len(l1)"
   ]
  },
  {
   "cell_type": "code",
   "execution_count": 20,
   "metadata": {},
   "outputs": [],
   "source": [
    "haaat=onehot(10,yhat)"
   ]
  },
  {
   "cell_type": "markdown",
   "metadata": {},
   "source": [
    "2.302402613404619"
   ]
  },
  {
   "cell_type": "code",
   "execution_count": 21,
   "metadata": {},
   "outputs": [],
   "source": [
    "predictions = [(np.exp(i)/(np.exp(i)).sum()) for i in l1] # output of softmax"
   ]
  },
  {
   "cell_type": "code",
   "execution_count": 22,
   "metadata": {},
   "outputs": [
    {
     "name": "stdout",
     "output_type": "stream",
     "text": [
      "[0, 0, 0, 5, 2, 0, 1, 6, 0, 1, 0, 0, 1, 0, 2, 6, 2, 0, 0, 5, 1, 2, 2, 6, 1, 0, 0, 2, 2, 0, 9, 2]\n"
     ]
    }
   ],
   "source": [
    "print([np.argmax(np.exp(i)/(np.exp(i)).sum()) for i in l1])"
   ]
  },
  {
   "cell_type": "code",
   "execution_count": 23,
   "metadata": {},
   "outputs": [
    {
     "data": {
      "text/plain": [
       "10.31733108895424"
      ]
     },
     "execution_count": 23,
     "metadata": {},
     "output_type": "execute_result"
    }
   ],
   "source": [
    "(np.exp(l1[0])).sum()"
   ]
  },
  {
   "cell_type": "code",
   "execution_count": 24,
   "metadata": {},
   "outputs": [
    {
     "name": "stdout",
     "output_type": "stream",
     "text": [
      "False\n"
     ]
    }
   ],
   "source": [
    "l=[np.exp(l1[i])/(np.exp(l1[i])).sum() for i in range(len(l1))]\n",
    "# print(l)\n",
    "print([np.argmax(i) for i in l]==[2, 5, 5, 1, 0, 0, 0, 5, 0, 0, 0, 0, 1, 0, 5, 0, 6, 9, 2, 2, 2, 1, 2, 2,\n",
    "        6, 5, 5, 2, 0, 0, 6, 6])"
   ]
  },
  {
   "cell_type": "code",
   "execution_count": 25,
   "metadata": {},
   "outputs": [
    {
     "data": {
      "text/plain": [
       "[array([0.10004601, 0.099996  , 0.099976  , 0.099996  , 0.099996  ,\n",
       "        0.100006  , 0.099976  , 0.099996  , 0.099996  , 0.100016  ])]"
      ]
     },
     "execution_count": 25,
     "metadata": {},
     "output_type": "execute_result"
    }
   ],
   "source": [
    "[np.exp(l1[0])/(np.exp(l1[0])).sum() ]"
   ]
  },
  {
   "cell_type": "code",
   "execution_count": 26,
   "metadata": {},
   "outputs": [
    {
     "data": {
      "text/plain": [
       "tensor(5)"
      ]
     },
     "execution_count": 26,
     "metadata": {},
     "output_type": "execute_result"
    }
   ],
   "source": [
    "t = torch.tensor([0.09905666, 0.09905666, 0.09905692, 0.09905666, 0.09905666,\n",
    "        0.10220105, 0.09905666, 0.09905666, 0.10220105, 0.10220105])\n",
    "t.argmax()      "
   ]
  },
  {
   "cell_type": "code",
   "execution_count": 27,
   "metadata": {},
   "outputs": [
    {
     "data": {
      "text/plain": [
       "{'train_loss': [2.307217706911304,\n",
       "  2.3025848869141,\n",
       "  2.3025848869141,\n",
       "  2.3025848869141,\n",
       "  2.3025848869141,\n",
       "  2.3025848869141,\n",
       "  2.3025848869141,\n",
       "  2.3025848869141,\n",
       "  2.3025848869141,\n",
       "  2.3025848869141],\n",
       " 'train_acc': [0.09927170601675551,\n",
       "  0.0991051028179741,\n",
       "  0.09908130236100533,\n",
       "  0.09908130236100533,\n",
       "  0.09903370144706779,\n",
       "  0.09908130236100533,\n",
       "  0.09905750190403656,\n",
       "  0.09905750190403656,\n",
       "  0.09903370144706779,\n",
       "  0.09908130236100533],\n",
       " 'val_loss': [tensor(4.6052, device='cuda:0'),\n",
       "  tensor(4.6052, device='cuda:0'),\n",
       "  tensor(4.6052, device='cuda:0'),\n",
       "  tensor(4.6052, device='cuda:0'),\n",
       "  tensor(4.6052, device='cuda:0'),\n",
       "  tensor(4.6052, device='cuda:0'),\n",
       "  tensor(4.6052, device='cuda:0'),\n",
       "  tensor(4.6052, device='cuda:0'),\n",
       "  tensor(4.6052, device='cuda:0'),\n",
       "  tensor(4.6052, device='cuda:0')],\n",
       " 'val_acc': [0.09780195381882771,\n",
       "  0.09785746003552398,\n",
       "  0.09785746003552398,\n",
       "  0.09780195381882771,\n",
       "  0.09780195381882771,\n",
       "  0.09785746003552398,\n",
       "  0.09785746003552398,\n",
       "  0.09780195381882771,\n",
       "  0.09780195381882771,\n",
       "  0.09791296625222025]}"
      ]
     },
     "execution_count": 27,
     "metadata": {},
     "output_type": "execute_result"
    }
   ],
   "source": [
    "h"
   ]
  },
  {
   "cell_type": "code",
   "execution_count": 28,
   "metadata": {},
   "outputs": [
    {
     "data": {
      "text/plain": [
       "[<matplotlib.lines.Line2D at 0x1b04ed3b730>]"
      ]
     },
     "execution_count": 28,
     "metadata": {},
     "output_type": "execute_result"
    },
    {
     "data": {
      "image/png": "[encoded data removed]",
      "text/plain": [
       "<Figure size 432x288 with 1 Axes>"
      ]
     },
     "metadata": {
      "needs_background": "light"
     },
     "output_type": "display_data"
    }
   ],
   "source": [
    "plt.plot([1,2,3,4,5,6,7,8,9,10],h['train_acc'])"
   ]
  },
  {
   "cell_type": "code",
   "execution_count": 29,
   "metadata": {},
   "outputs": [
    {
     "data": {
      "text/plain": [
       "[<matplotlib.lines.Line2D at 0x1b051f532b0>]"
      ]
     },
     "execution_count": 29,
     "metadata": {},
     "output_type": "execute_result"
    },
    {
     "data": {
      "image/png": "[encoded data removed]",
      "text/plain": [
       "<Figure size 432x288 with 1 Axes>"
      ]
     },
     "metadata": {
      "needs_background": "light"
     },
     "output_type": "display_data"
    }
   ],
   "source": [
    "plt.plot([1,2,3,4,5,6,7,8,9,10],h['train_loss'])"
   ]
  },
  {
   "cell_type": "code",
   "execution_count": null,
   "metadata": {},
   "outputs": [],
   "source": []
  }
 ],
 "metadata": {
  "interpreter": {
   "hash": "6f41cde163267ea74fb8a959ea1c52e21a3d11db2c6ff7108ee0ea8d86fcf190"
  },
  "kernelspec": {
   "display_name": "Python 3.9.5 64-bit",
   "language": "python",
   "name": "python3"
  },
  "language_info": {
   "codemirror_mode": {
    "name": "ipython",
    "version": 3
   },
   "file_extension": ".py",
   "mimetype": "text/x-python",
   "name": "python",
   "nbconvert_exporter": "python",
   "pygments_lexer": "ipython3",
   "version": "3.9.5"
  },
  "orig_nbformat": 4
 },
 "nbformat": 4,
 "nbformat_minor": 2
}
